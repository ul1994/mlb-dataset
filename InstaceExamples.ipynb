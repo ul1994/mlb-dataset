{
 "cells": [
  {
   "cell_type": "code",
   "execution_count": 1,
   "metadata": {},
   "outputs": [],
   "source": [
    "%matplotlib inline\n",
    "%load_ext autoreload\n",
    "%autoreload 2"
   ]
  },
  {
   "cell_type": "code",
   "execution_count": 2,
   "metadata": {},
   "outputs": [],
   "source": [
    "from glob import glob\n",
    "import numpy as np\n",
    "from configs import *\n",
    "import matplotlib.pyplot as plt\n",
    "import cv2\n",
    "import sys\n",
    "from scipy.ndimage import gaussian_filter as blur\n",
    "import math"
   ]
  },
  {
   "cell_type": "code",
   "execution_count": 3,
   "metadata": {},
   "outputs": [],
   "source": [
    "from annotate import *\n",
    "from utils import *\n",
    "from configs import *"
   ]
  },
  {
   "cell_type": "code",
   "execution_count": 4,
   "metadata": {},
   "outputs": [
    {
     "name": "stdout",
     "output_type": "stream",
     "text": [
      "05968-3750 05968-5500\n"
     ]
    }
   ],
   "source": [
    "cids = gather_captures()\n",
    "print(cids[0], cids[-1])"
   ]
  },
  {
   "cell_type": "code",
   "execution_count": 6,
   "metadata": {
    "scrolled": false
   },
   "outputs": [
    {
     "name": "stdout",
     "output_type": "stream",
     "text": [
      "[8/8 - 05968-5500] - 223/224   \r"
     ]
    }
   ],
   "source": [
    "for ci, cid in enumerate(cids):\n",
    "    tag = '[%d/%d - %s]' % (ci+1, len(cids), cid)\n",
    "    joints, tris = find_joints(cid, tag=tag)\n",
    "    skels, _ = collect_skeletons(joints)\n",
    "    skels = cull_skeletons(skels, IMAGE_SIZE)\n",
    "    bounds = skeleton_bounds(skels)\n",
    "    bounds = pad_boxes(bounds, ratio=0.15)\n",
    "    mask = draw_triangles(cid, tris.people)\n",
    "\n",
    "    img = draw_skeletons(cid, skels)\n",
    "    img = draw_boxes(cid, bounds, canvas=img)\n",
    "    cv2.imwrite('_outputs/%s_skel.jpg' % cid, img.astype(np.uint8))\n",
    "    \n",
    "    dim = draw_depth(cid, tris.all)\n",
    "    cv2.imwrite('_outputs/%s_depth.jpg' % cid, dim.astype(np.uint8))\n",
    "\n",
    "#     plt.figure(figsize=(7, 7))\n",
    "#     plt.imshow(cv2.cvtColor(img, cv2.COLOR_BGR2RGB))\n",
    "#     plt.show(); plt.close()\n",
    "    \n",
    "    save_metadata(cid, skels, bounds, mask)\n",
    "    break\n",
    "    "
   ]
  },
  {
   "cell_type": "code",
   "execution_count": null,
   "metadata": {},
   "outputs": [],
   "source": []
  }
 ],
 "metadata": {
  "kernelspec": {
   "display_name": "Python 3",
   "language": "python",
   "name": "python3"
  },
  "language_info": {
   "codemirror_mode": {
    "name": "ipython",
    "version": 3
   },
   "file_extension": ".py",
   "mimetype": "text/x-python",
   "name": "python",
   "nbconvert_exporter": "python",
   "pygments_lexer": "ipython3",
   "version": "3.7.2"
  }
 },
 "nbformat": 4,
 "nbformat_minor": 2
}
